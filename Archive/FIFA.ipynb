{
 "cells": [
  {
   "cell_type": "code",
   "execution_count": null,
   "id": "0",
   "metadata": {},
   "outputs": [],
   "source": [
    "import pandas as pd #Forgot to add the pd!\n"
   ]
  },
  {
   "cell_type": "code",
   "execution_count": null,
   "id": "1",
   "metadata": {},
   "outputs": [],
   "source": [
    "raw_data = pd.read_csv('FIFA_raw_data.csv')"
   ]
  },
  {
   "cell_type": "code",
   "execution_count": null,
   "id": "2",
   "metadata": {},
   "outputs": [],
   "source": [
    "pd.options.display.max_columns = None\n",
    "raw_data"
   ]
  },
  {
   "cell_type": "code",
   "execution_count": null,
   "id": "3",
   "metadata": {},
   "outputs": [],
   "source": [
    "df = raw_data.copy()"
   ]
  },
  {
   "cell_type": "code",
   "execution_count": null,
   "id": "4",
   "metadata": {
    "jupyter": {
     "outputs_hidden": true
    }
   },
   "outputs": [],
   "source": [
    "df.info()"
   ]
  },
  {
   "cell_type": "code",
   "execution_count": null,
   "id": "5",
   "metadata": {},
   "outputs": [],
   "source": [
    "df.describe()"
   ]
  },
  {
   "cell_type": "code",
   "execution_count": null,
   "id": "6",
   "metadata": {
    "jupyter": {
     "outputs_hidden": true
    }
   },
   "outputs": [],
   "source": [
    "df.isna().sum()"
   ]
  },
  {
   "cell_type": "code",
   "execution_count": null,
   "id": "7",
   "metadata": {},
   "outputs": [],
   "source": [
    "df['Goalkeeping'].max()"
   ]
  },
  {
   "cell_type": "code",
   "execution_count": null,
   "id": "8",
   "metadata": {
    "jupyter": {
     "outputs_hidden": true
    }
   },
   "outputs": [],
   "source": [
    "pd.options.display.max_rows = None\n",
    "df['Goalkeeping']"
   ]
  },
  {
   "cell_type": "code",
   "execution_count": null,
   "id": "9",
   "metadata": {},
   "outputs": [],
   "source": [
    "df[(df['Goalkeeping'] > 99)]"
   ]
  },
  {
   "cell_type": "code",
   "execution_count": null,
   "id": "10",
   "metadata": {},
   "outputs": [],
   "source": [
    "df[(df['Goalkeeping'] > 99) & ['Best Position'] != 'GK')] #This is causing it a crash =/"
   ]
  },
  {
   "cell_type": "code",
   "execution_count": null,
   "id": "11",
   "metadata": {},
   "outputs": [],
   "source": [
    "df = df.drop(['ID', 'LongName', 'photoUrl', 'playerUrl'], axis = 1) #Ok, let this be a lesson on dropping things...\n",
    "\n",
    "#PREMATURELY"
   ]
  },
  {
   "cell_type": "code",
   "execution_count": null,
   "id": "12",
   "metadata": {},
   "outputs": [],
   "source": [
    "df.head()"
   ]
  },
  {
   "cell_type": "code",
   "execution_count": null,
   "id": "13",
   "metadata": {},
   "outputs": [],
   "source": [
    "duplicate_column_names = df.columns[df.columns.duplicated()].tolist()\n",
    "\n",
    "if duplicate_column_names:\n",
    "    print(f\"Duplicate column names: {duplicate_column_names}\")\n",
    "else:\n",
    "    print(\"No duplicate columns\")"
   ]
  },
  {
   "cell_type": "code",
   "execution_count": null,
   "id": "14",
   "metadata": {},
   "outputs": [],
   "source": [
    "df.columns.values #Going here to rename OVA"
   ]
  },
  {
   "cell_type": "code",
   "execution_count": null,
   "id": "15",
   "metadata": {},
   "outputs": [],
   "source": [
    "df = df.rename(columns={'↓OVA':'OVA'}) #Cool easier way to rename"
   ]
  },
  {
   "cell_type": "code",
   "execution_count": null,
   "id": "16",
   "metadata": {},
   "outputs": [],
   "source": [
    "df.head()"
   ]
  },
  {
   "cell_type": "markdown",
   "id": "17",
   "metadata": {},
   "source": [
    "# Checkpoint\n",
    "\n",
    "Doing some further tidying an exploration above\n",
    "\n",
    "Below will be dropping more columns and tidying them properly"
   ]
  },
  {
   "cell_type": "markdown",
   "id": "18",
   "metadata": {},
   "source": [
    "# Sorting Club\n",
    "\n",
    "Removing the weird n's from in front of the club names"
   ]
  },
  {
   "cell_type": "code",
   "execution_count": null,
   "id": "19",
   "metadata": {},
   "outputs": [],
   "source": [
    "df['Club'].head() #Can see that there are 4 n's for each one"
   ]
  },
  {
   "cell_type": "code",
   "execution_count": null,
   "id": "20",
   "metadata": {},
   "outputs": [],
   "source": [
    "df[\"Club\"]=df[\"Club\"].str.strip(\"\\r\\n\\r\\n\\r\\n\\r\\n\") #Have to add the double backslash at the end otherwise it interprets it \\\n",
    "#As an escape character still. Not sure why..."
   ]
  },
  {
   "cell_type": "code",
   "execution_count": null,
   "id": "21",
   "metadata": {},
   "outputs": [],
   "source": [
    "df[\"Club\"]=df[\"Club\"].str.strip(\"\\n\\n\\n\\n\") #Have to add the double backslash at the end otherwise it interprets it \\\n",
    "#As an escape character still. Nopt sure why...\n",
    "# Removed the r to fix it, because it's not a raw string, it's actual new lines in the data!!!"
   ]
  },
  {
   "cell_type": "markdown",
   "id": "22",
   "metadata": {},
   "source": [
    "- `\"\\r\\n\\r\\n\\r\\n\\r\\n\"` - Interpreted as 8 actual control characters (4 carriage returns and 4 newlines)\n",
    "- `r\"\\n\\n\\n\\n\"` - Would be interpreted as 8 literal characters (the backslashes and letters)\n",
    "\n",
    "The reason this doesn't work is that \\n is Pys way of showing a new line. So while on the output it appears as \\n, the data isn't actually that. The data is new line, fixed above by not treating it as a raw string, and just having \"\\n\\n...\" as the string to remove!\n"
   ]
  },
  {
   "cell_type": "code",
   "execution_count": null,
   "id": "23",
   "metadata": {},
   "outputs": [],
   "source": [
    "df['Club'].head() #Success!"
   ]
  },
  {
   "cell_type": "code",
   "execution_count": null,
   "id": "24",
   "metadata": {},
   "outputs": [],
   "source": [
    "df.head()"
   ]
  },
  {
   "cell_type": "code",
   "execution_count": null,
   "id": "25",
   "metadata": {},
   "outputs": [],
   "source": [
    "type(df['Age'][0])"
   ]
  },
  {
   "cell_type": "code",
   "execution_count": null,
   "id": "26",
   "metadata": {},
   "outputs": [],
   "source": [
    "type(df['Value'][0])"
   ]
  },
  {
   "cell_type": "code",
   "execution_count": null,
   "id": "27",
   "metadata": {},
   "outputs": [],
   "source": [
    "type(df['Height'][0])"
   ]
  },
  {
   "cell_type": "code",
   "execution_count": null,
   "id": "28",
   "metadata": {},
   "outputs": [],
   "source": [
    "df['Best Position'].unique()"
   ]
  },
  {
   "cell_type": "markdown",
   "id": "29",
   "metadata": {},
   "source": [
    "Attempting to fix the columns that should be numerical"
   ]
  },
  {
   "cell_type": "code",
   "execution_count": null,
   "id": "30",
   "metadata": {},
   "outputs": [],
   "source": [
    "df_numerical = df.copy()"
   ]
  },
  {
   "cell_type": "markdown",
   "id": "31",
   "metadata": {},
   "source": [
    "# Height\n",
    "\n",
    "Removing cm is easy, but check unique values after and you'll see some are recorded in ft and inches"
   ]
  },
  {
   "cell_type": "code",
   "execution_count": null,
   "id": "32",
   "metadata": {},
   "outputs": [],
   "source": [
    "df['Height'] = df['Height'].str.replace('cm', '')"
   ]
  },
  {
   "cell_type": "code",
   "execution_count": null,
   "id": "33",
   "metadata": {},
   "outputs": [],
   "source": [
    "#Other way to do this with strip\n",
    "\n",
    "df['Height'] = df['Height'].str.strip(\"cm\")"
   ]
  },
  {
   "cell_type": "code",
   "execution_count": null,
   "id": "34",
   "metadata": {},
   "outputs": [],
   "source": [
    "df['Height'].head()"
   ]
  },
  {
   "cell_type": "code",
   "execution_count": null,
   "id": "35",
   "metadata": {},
   "outputs": [],
   "source": [
    "df['Height'].unique()"
   ]
  },
  {
   "cell_type": "code",
   "execution_count": null,
   "id": "36",
   "metadata": {},
   "outputs": [],
   "source": [
    "#Copied this straight from online\n",
    "\n",
    "def ft_to_cm(x):\n",
    "    if \"'\" in x: #If it finds a ft marker\n",
    "        ft=x.replace(\"'\",\".\").replace('\"',\"\") #New var ft is height, turned to e.g. 6'3\" -> 6.3\n",
    "        cm= round(float(ft)*30.48,0)\n",
    "        return int(cm)\n",
    "\n",
    "    else:\n",
    "        return int(x)\n",
    "\n",
    "df[\"Height\"]=df[\"Height\"].apply(ft_to_cm)\n",
    "df[\"Height\"].unique()\n",
    "\n",
    "#Issue I'm noting is that this wouln't work with someone, say 5'11\""
   ]
  },
  {
   "cell_type": "code",
   "execution_count": null,
   "id": "37",
   "metadata": {},
   "outputs": [],
   "source": [
    "def ft_to_cm(x):\n",
    "    if \"'\" in x:\n",
    "        # Split the string into feet and inches parts\n",
    "        parts = x.replace('\"', '').split(\"'\")\n",
    "        feet = float(parts[0])\n",
    "        # Check if there are inches specified\n",
    "        inches = float(parts[1]) if parts[1] else 0\n",
    "        \n",
    "        # Convert to centimeters (1 foot = 30.48 cm, 1 inch = 2.54 cm)\n",
    "        cm = round((feet * 30.48) + (inches * 2.54), 0)\n",
    "        return int(cm)\n",
    "    else:\n",
    "        return int(x)\n",
    "\n",
    "df[\"Height\"]=df[\"Height\"].apply(ft_to_cm)\n",
    "df[\"Height\"].unique()"
   ]
  },
  {
   "cell_type": "markdown",
   "id": "38",
   "metadata": {},
   "source": [
    "# Weight\n",
    "\n",
    "As above, we still have differing scales of measurement, so let's fix that..."
   ]
  },
  {
   "cell_type": "code",
   "execution_count": null,
   "id": "39",
   "metadata": {},
   "outputs": [],
   "source": [
    "df['Weight'] = df['Weight'].str.replace('kg', '')\n",
    "\n",
    "#Or, as above, the alternate way to do it"
   ]
  },
  {
   "cell_type": "code",
   "execution_count": null,
   "id": "40",
   "metadata": {},
   "outputs": [],
   "source": [
    "df['Weight'].head()"
   ]
  },
  {
   "cell_type": "code",
   "execution_count": null,
   "id": "41",
   "metadata": {},
   "outputs": [],
   "source": [
    "df['Weight'].unique()"
   ]
  },
  {
   "cell_type": "code",
   "execution_count": null,
   "id": "42",
   "metadata": {},
   "outputs": [],
   "source": [
    "type(df['Weight'][0])"
   ]
  },
  {
   "cell_type": "code",
   "execution_count": null,
   "id": "43",
   "metadata": {},
   "outputs": [],
   "source": [
    "def lbs_to_kg(x):\n",
    "    if \"lbs\" in x:\n",
    "        lbs = x.replace(\"lbs\", \"\")\n",
    "        kg = round(int(lbs) / 2.2, 0)\n",
    "        return int(kg)\n",
    "    else:\n",
    "        return int(x)\n",
    "\n",
    "#Forgot to actually apply the damn thing\n",
    "\n",
    "df['Weight'] = df['Weight'].apply(lbs_to_kg)\n",
    "\n",
    "#What didn't work was that these are strings, need to convert everything to integers, including the returned x's, to get a nice\n",
    "#clean set of numbers"
   ]
  },
  {
   "cell_type": "code",
   "execution_count": null,
   "id": "44",
   "metadata": {},
   "outputs": [],
   "source": [
    "df['Weight'].unique()"
   ]
  },
  {
   "cell_type": "code",
   "execution_count": null,
   "id": "45",
   "metadata": {},
   "outputs": [],
   "source": [
    "df.rename(columns={'Height':'Height(cm)','Weight':'Weight(kg)'},inplace =True)\n",
    "\n",
    "#`inplace=True` - This parameter tells pandas to modify the original DataFrame directly instead of returning a new copy. The changes will be applied to `df` itself rather than requiring reassignment."
   ]
  },
  {
   "cell_type": "markdown",
   "id": "46",
   "metadata": {},
   "source": [
    "# Fixing Value\n",
    "\n",
    "Checkpoint below"
   ]
  },
  {
   "cell_type": "markdown",
   "id": "47",
   "metadata": {},
   "source": [
    "df['Value'] = df['Value'].str.replace('M', '')\n",
    "df['Value'] = df['Value'].str.replace('€', '')\n",
    "df['Value'] = df['Value'].str.replace('.', '')\n",
    "\n",
    "Not using this as there's a better way"
   ]
  },
  {
   "cell_type": "code",
   "execution_count": null,
   "id": "48",
   "metadata": {},
   "outputs": [],
   "source": [
    "df_value = df.copy()"
   ]
  },
  {
   "cell_type": "code",
   "execution_count": null,
   "id": "49",
   "metadata": {},
   "outputs": [],
   "source": [
    "df[['Value', 'Wage']].head() #Nice way to apply two .heads"
   ]
  },
  {
   "cell_type": "code",
   "execution_count": null,
   "id": "50",
   "metadata": {},
   "outputs": [],
   "source": [
    "def money(x):\n",
    "    if \"€\" in x:\n",
    "        x = x.replace(\"€\", \"\")\n",
    "\n",
    "    if \"M\" in x: #Wonder a way to do this case insensitively...\n",
    "        x=x.replace(\"M\", \"\")\n",
    "        return int(float(x) * 1000000) #Can we do this so it automatically returns it in the mil value... \n",
    "# The intfloat bit works because it floats a value, say 103.5, then returns the integer (the decimal is eliminated by multiplying it)\n",
    "    \n",
    "    elif \"K\" in x:\n",
    "        x = x.replace(\"K\", \"\")\n",
    "        return int(float(x) * 1000)\n",
    "\n",
    "    return int(x)\n",
    "\n",
    "# Ok, they've gone for displaying value in mils and wage in ks, I think I wanna keep them as pure monetary numbers\n",
    "\n",
    "df['Value'] = df['Value'].apply(money)\n",
    "df['Wage'] = df['Wage'].apply(money)"
   ]
  },
  {
   "cell_type": "code",
   "execution_count": null,
   "id": "51",
   "metadata": {},
   "outputs": [],
   "source": [
    "df.rename(columns = {'Value':'Value (€)', \"Wage\":\"Wage (€)\"})\n",
    "\n",
    "df[['Value', 'Wage']].head()"
   ]
  },
  {
   "cell_type": "markdown",
   "id": "52",
   "metadata": {},
   "source": [
    "# Checking in again\n",
    "\n",
    "A quick review and checkpoint to see what' next\n",
    "Forgot the checkpoint"
   ]
  },
  {
   "cell_type": "code",
   "execution_count": null,
   "id": "53",
   "metadata": {},
   "outputs": [],
   "source": [
    "df.head()"
   ]
  },
  {
   "cell_type": "markdown",
   "id": "54",
   "metadata": {},
   "source": [
    "Missed release clause, but was planning to drop that anyway... but oh well, let's go back and do it\n",
    "W/F\n",
    "SM\n",
    "IR\n",
    "all have a star at the end, let's remove that and I think we're done!"
   ]
  },
  {
   "cell_type": "code",
   "execution_count": null,
   "id": "55",
   "metadata": {},
   "outputs": [],
   "source": [
    "df['Release Clause'] = df['Release Clause'].apply(money)\n",
    "df['Release Clause'].head()"
   ]
  },
  {
   "cell_type": "code",
   "execution_count": null,
   "id": "56",
   "metadata": {},
   "outputs": [],
   "source": [
    "df[['W/F', 'SM', 'IR']].head()"
   ]
  },
  {
   "cell_type": "code",
   "execution_count": null,
   "id": "57",
   "metadata": {},
   "outputs": [],
   "source": [
    "df['W/F'] = df['W/F'].str.replace(\"★\", \"\")\n",
    "df['SM'] = df['SM'].str.replace(\"★\", \"\")\n",
    "df['IR'] = df['IR'].str.replace(\"★\", \"\")"
   ]
  },
  {
   "cell_type": "code",
   "execution_count": null,
   "id": "58",
   "metadata": {},
   "outputs": [],
   "source": [
    "df[['W/F', 'SM', 'IR']].head()"
   ]
  },
  {
   "cell_type": "code",
   "execution_count": null,
   "id": "59",
   "metadata": {},
   "outputs": [],
   "source": [
    "df_nearly = df.copy()"
   ]
  },
  {
   "cell_type": "code",
   "execution_count": null,
   "id": "60",
   "metadata": {},
   "outputs": [],
   "source": [
    "df.rename(columns = {'W/F':'Weak Foot /5', \"SM\":\"Skill Moves /5\", \"IR\": \"International Reputation /5\"}, inplace = True)"
   ]
  },
  {
   "cell_type": "code",
   "execution_count": null,
   "id": "61",
   "metadata": {},
   "outputs": [],
   "source": [
    "df.head()"
   ]
  },
  {
   "cell_type": "markdown",
   "id": "62",
   "metadata": {},
   "source": [
    "# Contract\n",
    "\n",
    "Have still got it in, so for practice's sake, can I convert it"
   ]
  },
  {
   "cell_type": "code",
   "execution_count": null,
   "id": "63",
   "metadata": {},
   "outputs": [],
   "source": [
    "df_contract = df.copy()"
   ]
  },
  {
   "cell_type": "code",
   "execution_count": null,
   "id": "64",
   "metadata": {},
   "outputs": [],
   "source": [
    "df['Contract'].head()"
   ]
  },
  {
   "cell_type": "code",
   "execution_count": null,
   "id": "65",
   "metadata": {},
   "outputs": [],
   "source": [
    "df['Contract'].unique()"
   ]
  },
  {
   "cell_type": "markdown",
   "id": "66",
   "metadata": {},
   "source": [
    "So.. many are years separated with ~, some have On Loan, and show MMM (D)D, YYYY\n",
    "Very nearly missed 'Free'\n",
    "\n",
    "So, we have three types of contract 'Free', On loan, and regular OR 'Free', 'Loan', 'Contract'"
   ]
  },
  {
   "cell_type": "code",
   "execution_count": null,
   "id": "67",
   "metadata": {},
   "outputs": [],
   "source": [
    "help(pd.na)"
   ]
  },
  {
   "cell_type": "code",
   "execution_count": null,
   "id": "68",
   "metadata": {},
   "outputs": [],
   "source": [
    "def type(x):\n",
    "    if \"Free\" in x:\n",
    "        return \"Free\"\n",
    "    if \"Loan\" in x:\n",
    "        return \"Loan\"\n",
    "    if \"~\" in x:\n",
    "        return \"Contract\"\n",
    "    else:\n",
    "        return pd.na\n",
    "\n",
    "def contract_start(x):\n",
    "    if \"~\" in x:\n",
    "        return pd.to_datetime(x[:4])\n",
    "    if \"Loan\" in x:\n",
    "        x = x.str.strip(\" On Loan\")\n",
    "        x = \n",
    "\n",
    "# Abandoning this at this point because of the whole datetime module that I don't understand. Will copypaste and try to understand the correct code beloq"
   ]
  },
  {
   "cell_type": "code",
   "execution_count": null,
   "id": "69",
   "metadata": {},
   "outputs": [],
   "source": [
    "df['Loan Date End'].unique()"
   ]
  },
  {
   "cell_type": "code",
   "execution_count": null,
   "id": "70",
   "metadata": {},
   "outputs": [],
   "source": [
    "from datetime import datetime\n",
    "\n",
    "def type(x):\n",
    "    if \"Free\" in x:\n",
    "        return \"Free\"\n",
    "    if \"Loan\" in x:\n",
    "        return \"Loan\"\n",
    "    if \"~\" in x:\n",
    "        return \"Contract\"\n",
    "    else:\n",
    "        return pd.na\n",
    "\n",
    "def start_time_contract(x):\n",
    "    if \"~\" in x:\n",
    "        return  int(x[:4]) #Kept as an integer, reasons below\n",
    "    if \"Loan\" in x:\n",
    "        x=x.strip(\" On Loan\")\n",
    "        x= datetime.strptime(x, \"%b %d, %Y\")\n",
    "        return x.date()\n",
    "    else:\n",
    "        return pd.NA\n",
    "\n",
    "def end_time_contract(type,contract,loan):\n",
    "    if type == \"Contract\":\n",
    "        return int(contract[-4:])\n",
    "    if type == \"Loan\":\n",
    "        loan = datetime.strptime(loan, \"%b %d, %Y\")\n",
    "        return loan.date()\n",
    "\n",
    "    else:\n",
    "        return pd.NA\n",
    "\n",
    "df[\"Type of contract\"] = df[\"Contract\"].apply(type)\n",
    "df[\"Start year\"] = df[\"Contract\"].apply(start_time_contract)\n",
    "df[\"End year\"] = df.apply(lambda row: end_time_contract(row[\"Type of contract\"],row[\"Contract\"],row[\"Loan Date End\"] ), axis=1)"
   ]
  },
  {
   "cell_type": "markdown",
   "id": "71",
   "metadata": {},
   "source": [
    "# Explaining the above\n",
    "\n",
    "type(x): I wrote this myself, so this is fine to understand. It just categorises the type of contract based on keywords\n",
    "\n",
    "start_time_contract: Is extracting the start date from each value. Year is kept as an integer for the following reasons:\n",
    "\n",
    "1. **Accuracy**: Creating a date object like `datetime(2020, 1, 1)` implies January 1st, which adds false precision that wasn't in the original data\n",
    "\n",
    "2. **Simplicity**: Integers are simpler to work with for year-level calculations (e.g., contract duration)\n",
    "\n",
    "3. **Performance**: Integers use less memory and are faster to process than date objects\n",
    "\n",
    "4. **Clarity**: Using an integer clearly communicates that only the year is known, not a specific date\n",
    "\n",
    "5. **Avoiding assumptions**: Date objects require month and day values, forcing you to make assumptions (like January 1st) that weren't in the original data\n",
    "\n",
    "The loan part first strips loan, then converts the values to datetime using a function from the dt module. Returning loan.date() only includes date info, not time.\n",
    "\n",
    "The last one specifies what to do and is then returned with the lambda function to make the end year column. The three parameters are the type of contract, which by then is in its own column, the existing contract row, and the loan end date column. \n",
    "\n",
    "Lambda creates a function that takes the parameter 'row'... I still don't get it... but row is just the function name. It's doing my head in right now.\n"
   ]
  }
 ],
 "metadata": {
  "kernelspec": {
   "display_name": "Python [conda env:base] *",
   "language": "python",
   "name": "conda-base-py"
  },
  "language_info": {
   "codemirror_mode": {
    "name": "ipython",
    "version": 3
   },
   "file_extension": ".py",
   "mimetype": "text/x-python",
   "name": "python",
   "nbconvert_exporter": "python",
   "pygments_lexer": "ipython3",
   "version": "3.12.7"
  }
 },
 "nbformat": 4,
 "nbformat_minor": 5
}
