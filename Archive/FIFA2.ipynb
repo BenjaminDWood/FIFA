{
 "cells": [
  {
   "cell_type": "code",
   "execution_count": null,
   "id": "0",
   "metadata": {},
   "outputs": [],
   "source": [
    "import pandas as pd\n",
    "import numpy as np\n",
    "from datetime import datetime\n",
    "import matplotlib.pyplot as plt\n",
    "import seaborn as sns\n",
    "raw_data = pd.read_csv('FIFA_raw_data.csv')\n",
    "df = raw_data.copy()\n",
    "df = df.drop(['ID', 'LongName', 'photoUrl', 'playerUrl'], axis = 1)\n",
    "df = df.rename(columns={'↓OVA':'OVA'})\n",
    "df[\"Club\"]=df[\"Club\"].str.strip(\"\\n\\n\\n\\n\")\n",
    "df['Height'] = df['Height'].str.replace('cm', '')\n",
    "def ft_to_cm(x):\n",
    "    if \"'\" in x:\n",
    "        parts = x.replace('\"', '').split(\"'\")\n",
    "        feet = float(parts[0])\n",
    "        inches = float(parts[1]) if parts[1] else 0\n",
    "        cm = round((feet * 30.48) + (inches * 2.54), 0)\n",
    "        return int(cm)\n",
    "    else:\n",
    "        return int(x)\n",
    "\n",
    "df[\"Height\"]=df[\"Height\"].apply(ft_to_cm)\n",
    "df[\"Height\"].unique()\n",
    "df['Weight'] = df['Weight'].str.replace('kg', '')\n",
    "def lbs_to_kg(x):\n",
    "    if \"lbs\" in x:\n",
    "        lbs = x.replace(\"lbs\", \"\")\n",
    "        kg = round(int(lbs) / 2.2, 0)\n",
    "        return int(kg)\n",
    "    else:\n",
    "        return int(x)\n",
    "\n",
    "df['Weight'] = df['Weight'].apply(lbs_to_kg)\n",
    "df.rename(columns={'Height':'Height(cm)','Weight':'Weight(kg)'},inplace =True)\n",
    "def money(x):\n",
    "    if \"€\" in x:\n",
    "        x = x.replace(\"€\", \"\")\n",
    "    if \"M\" in x:\n",
    "        x=x.replace(\"M\", \"\")\n",
    "        return int(float(x) * 1000000)\n",
    "    elif \"K\" in x:\n",
    "        x = x.replace(\"K\", \"\")\n",
    "        return int(float(x) * 1000)\n",
    "\n",
    "    return int(x)\n",
    "\n",
    "df['Value'] = df['Value'].apply(money)\n",
    "df['Wage'] = df['Wage'].apply(money)\n",
    "df['Release Clause'] = df['Release Clause'].apply(money)\n",
    "\n",
    "df.rename(columns = {'Value':'Value (€)', \"Wage\":\"Wage (€)\"})\n",
    "\n",
    "df['W/F'] = df['W/F'].str.replace(\"★\", \"\")\n",
    "df['SM'] = df['SM'].str.replace(\"★\", \"\")\n",
    "df['IR'] = df['IR'].str.replace(\"★\", \"\")\n",
    "\n",
    "df.rename(columns = {'W/F':'Weak Foot /5', \"SM\":\"Skill Moves /5\", \"IR\": \"International Reputation /5\"}, inplace = True)\n",
    "\n",
    "def type(x):\n",
    "    if \"Free\" in x:\n",
    "        return \"Free\"\n",
    "    if \"Loan\" in x:\n",
    "        return \"Loan\"\n",
    "    if \"~\" in x:\n",
    "        return \"Contract\"\n",
    "    else:\n",
    "        return pd.NA\n",
    "\n",
    "def start_time_contract(x):\n",
    "    if \"~\" in x:\n",
    "        return  int(x[:4])\n",
    "    if \"Loan\" in x:\n",
    "        x=x.strip(\" On Loan\")\n",
    "        x= datetime.strptime(x, \"%b %d, %Y\")\n",
    "        return x.date()\n",
    "    else:\n",
    "        return pd.NA\n",
    "\n",
    "def end_time_contract(type,contract,loan):\n",
    "    if type == \"Contract\":\n",
    "        return int(contract[-4:])\n",
    "    if type == \"Loan\":\n",
    "        loan = datetime.strptime(loan, \"%b %d, %Y\")\n",
    "        return loan.date()\n",
    "\n",
    "    else:\n",
    "        return pd.NA\n",
    "\n",
    "df[\"Type of contract\"] = df[\"Contract\"].apply(type)\n",
    "df[\"Start year\"] = df[\"Contract\"].apply(start_time_contract)\n",
    "df[\"End year\"] = df.apply(lambda row: end_time_contract(row[\"Type of contract\"],row[\"Contract\"],row[\"Loan Date End\"] ), axis=1)"
   ]
  },
  {
   "cell_type": "code",
   "execution_count": null,
   "id": "1",
   "metadata": {},
   "outputs": [],
   "source": [
    "pd.options.display.max_columns = None\n",
    "df.head()"
   ]
  },
  {
   "cell_type": "code",
   "execution_count": null,
   "id": "2",
   "metadata": {},
   "outputs": [],
   "source": [
    "df[['Type of contract','Start year','End year']].head()"
   ]
  },
  {
   "cell_type": "code",
   "execution_count": null,
   "id": "3",
   "metadata": {},
   "outputs": [],
   "source": [
    "df['Type of contract'].unique()"
   ]
  },
  {
   "cell_type": "code",
   "execution_count": null,
   "id": "4",
   "metadata": {},
   "outputs": [],
   "source": [
    "df[\"Attacking\"]=round(df[\"Attacking\"]/5,0)\n",
    "df[\"Attacking\"]=df[\"Attacking\"].astype(\"int64\")\n",
    "\n",
    "df[\"Skill\"]=df[\"Skill\"]/5\n",
    "df[\"Skill\"]=df[\"Skill\"].astype(\"int64\")\n",
    "\n",
    "\n",
    "df[\"Movement\"]=df[\"Movement\"]/5\n",
    "df[\"Movement\"]=df[\"Movement\"].astype(\"int64\")\n",
    "\n",
    "\n",
    "df[\"Power\"]=df[\"Power\"]/5\n",
    "df[\"Power\"]=df[\"Power\"].astype(\"int64\")\n",
    "\n",
    "\n",
    "df[\"Mentality\"]=df[\"Mentality\"]/6\n",
    "df[\"Mentality\"]=df[\"Mentality\"].astype(\"int64\")\n",
    "\n",
    "df[\"Defending\"]=df[\"Defending\"]/3\n",
    "df[\"Defending\"]=df[\"Defending\"].astype(\"int64\")\n",
    "\n",
    "df[\"Goalkeeping\"] = df[\"Goalkeeping\"]/5\n",
    "df[\"Goalkeeping\"] = df[\"Goalkeeping\"].astype(\"int64\")\n",
    "\n",
    "df=df.rename(columns={\"Attacking\":\"Attacking AVG\", \"Skill\":\"Skill AVG\", \"Movement\":\"Movement AVG\",\n",
    "                    \"Power\":\"Power AVG\", \"Mentality\":\"Mentality AVG\", \"Defending\":\"Defending AVG\", \"Goalkeeping\":\"Goalkeeping AVG\"} )"
   ]
  },
  {
   "cell_type": "code",
   "execution_count": null,
   "id": "5",
   "metadata": {},
   "outputs": [],
   "source": [
    "df[['Name','OVA','Attacking AVG','Skill AVG','Movement AVG','Power AVG','Mentality AVG','Defending AVG','Goalkeeping AVG']].head()"
   ]
  },
  {
   "cell_type": "code",
   "execution_count": null,
   "id": "6",
   "metadata": {},
   "outputs": [],
   "source": [
    "df = df.drop(['Hits'], axis=1)"
   ]
  },
  {
   "cell_type": "code",
   "execution_count": null,
   "id": "7",
   "metadata": {},
   "outputs": [],
   "source": [
    "df.head()"
   ]
  },
  {
   "cell_type": "code",
   "execution_count": null,
   "id": "8",
   "metadata": {},
   "outputs": [],
   "source": [
    "df.columns"
   ]
  },
  {
   "cell_type": "code",
   "execution_count": null,
   "id": "9",
   "metadata": {},
   "outputs": [],
   "source": [
    "df_columns = ['Name', 'Nationality', 'Age', 'OVA', 'POT', 'Club', 'Contract',\n",
    "       'Positions', 'Height(cm)', 'Weight(kg)', 'Preferred Foot', 'BOV',\n",
    "       'Best Position', 'Joined','Type of contract', 'Start year',\n",
    "       'End year', 'Loan Date End', 'Value', 'Wage',\n",
    "       'Release Clause', 'Attacking AVG', 'Crossing', 'Finishing',\n",
    "       'Heading Accuracy', 'Short Passing', 'Volleys', 'Skill AVG',\n",
    "       'Dribbling', 'Curve', 'FK Accuracy', 'Long Passing', 'Ball Control',\n",
    "       'Movement AVG', 'Acceleration', 'Sprint Speed', 'Agility', 'Reactions',\n",
    "       'Balance', 'Power AVG', 'Shot Power', 'Jumping', 'Stamina', 'Strength',\n",
    "       'Long Shots', 'Mentality AVG', 'Aggression', 'Interceptions',\n",
    "       'Positioning', 'Vision', 'Penalties', 'Composure', 'Defending AVG',\n",
    "       'Marking', 'Standing Tackle', 'Sliding Tackle', 'Goalkeeping AVG',\n",
    "       'GK Diving', 'GK Handling', 'GK Kicking', 'GK Positioning',\n",
    "       'GK Reflexes', 'Total Stats', 'Base Stats', 'Weak Foot /5',\n",
    "       'Skill Moves /5', 'A/W', 'D/W', 'International Reputation /5', 'PAC',\n",
    "       'SHO', 'PAS', 'DRI', 'DEF', 'PHY',]"
   ]
  },
  {
   "cell_type": "code",
   "execution_count": null,
   "id": "10",
   "metadata": {},
   "outputs": [],
   "source": [
    "df=df[df_columns]"
   ]
  },
  {
   "cell_type": "code",
   "execution_count": null,
   "id": "11",
   "metadata": {},
   "outputs": [],
   "source": [
    "df.head()"
   ]
  },
  {
   "cell_type": "code",
   "execution_count": null,
   "id": "12",
   "metadata": {},
   "outputs": [],
   "source": [
    "type(df['Joined'][0])"
   ]
  },
  {
   "cell_type": "code",
   "execution_count": null,
   "id": "13",
   "metadata": {},
   "outputs": [],
   "source": [
    "df=df.drop(columns=['Loan Date End','Joined'])"
   ]
  },
  {
   "cell_type": "code",
   "execution_count": null,
   "id": "14",
   "metadata": {},
   "outputs": [],
   "source": [
    "df.head()"
   ]
  },
  {
   "cell_type": "code",
   "execution_count": null,
   "id": "15",
   "metadata": {},
   "outputs": [],
   "source": [
    "df.info()"
   ]
  },
  {
   "cell_type": "code",
   "execution_count": null,
   "id": "16",
   "metadata": {},
   "outputs": [],
   "source": [
    "df_type = df.copy()"
   ]
  },
  {
   "cell_type": "code",
   "execution_count": null,
   "id": "17",
   "metadata": {},
   "outputs": [],
   "source": [
    "pd.unique(df['A/W'])"
   ]
  },
  {
   "cell_type": "code",
   "execution_count": null,
   "id": "18",
   "metadata": {},
   "outputs": [],
   "source": [
    "pd.unique(df['D/W'])"
   ]
  },
  {
   "cell_type": "code",
   "execution_count": null,
   "id": "19",
   "metadata": {},
   "outputs": [],
   "source": [
    "df = df.astype({'Weak Foot /5': 'int64', 'Skill Moves /5': 'int64', 'International Reputation /5' : 'int64' }).dtypes"
   ]
  },
  {
   "cell_type": "code",
   "execution_count": null,
   "id": "20",
   "metadata": {},
   "outputs": [],
   "source": [
    "df.info()"
   ]
  },
  {
   "cell_type": "code",
   "execution_count": null,
   "id": "21",
   "metadata": {},
   "outputs": [],
   "source": [
    "df.head()"
   ]
  },
  {
   "cell_type": "code",
   "execution_count": null,
   "id": "22",
   "metadata": {},
   "outputs": [],
   "source": [
    "df = df_type"
   ]
  },
  {
   "cell_type": "code",
   "execution_count": null,
   "id": "23",
   "metadata": {},
   "outputs": [],
   "source": [
    "df.head()"
   ]
  },
  {
   "cell_type": "code",
   "execution_count": null,
   "id": "24",
   "metadata": {},
   "outputs": [],
   "source": [
    "df[['Weak Foot /5', 'Skill Moves /5', 'International Reputation /5']] = df[['Weak Foot /5', 'Skill Moves /5', 'International Reputation /5']]\\\n",
    ".apply(pd.to_numeric)"
   ]
  },
  {
   "cell_type": "code",
   "execution_count": null,
   "id": "25",
   "metadata": {},
   "outputs": [],
   "source": [
    "df.info()"
   ]
  },
  {
   "cell_type": "markdown",
   "id": "26",
   "metadata": {},
   "source": [
    "# Final Checkpoint\n",
    "\n",
    "Creating a final checkpoint and readying data to be exported"
   ]
  },
  {
   "cell_type": "code",
   "execution_count": null,
   "id": "27",
   "metadata": {},
   "outputs": [],
   "source": [
    "df_preprocessed = df.copy()"
   ]
  },
  {
   "cell_type": "code",
   "execution_count": null,
   "id": "28",
   "metadata": {},
   "outputs": [],
   "source": [
    "import pymysql"
   ]
  },
  {
   "cell_type": "code",
   "execution_count": null,
   "id": "29",
   "metadata": {},
   "outputs": [],
   "source": [
    "df = df.drop(['Contract'], axis=1)"
   ]
  },
  {
   "cell_type": "code",
   "execution_count": null,
   "id": "30",
   "metadata": {},
   "outputs": [],
   "source": [
    "df.columns"
   ]
  },
  {
   "cell_type": "code",
   "execution_count": null,
   "id": "31",
   "metadata": {},
   "outputs": [],
   "source": [
    "import pymysql"
   ]
  },
  {
   "cell_type": "code",
   "execution_count": null,
   "id": "32",
   "metadata": {},
   "outputs": [],
   "source": [
    "conn = pymysql.connect(database = 'fifa_db', user = 'root', password = 'brandn3w')"
   ]
  },
  {
   "cell_type": "code",
   "execution_count": null,
   "id": "33",
   "metadata": {},
   "outputs": [],
   "source": [
    "cursor = conn.cursor()"
   ]
  },
  {
   "cell_type": "code",
   "execution_count": null,
   "id": "34",
   "metadata": {},
   "outputs": [],
   "source": [
    "insert_query = 'INSERT INTO predicted_outputs VALUES '"
   ]
  },
  {
   "cell_type": "code",
   "execution_count": null,
   "id": "35",
   "metadata": {},
   "outputs": [],
   "source": [
    "for i in range(df.shape[0]):\n",
    "    insert_query += '('\n",
    "\n",
    "    for j in range(df.shape[1]):\n",
    "        insert_query += str(df[df.columns.values[j]][i]) + ', '\n",
    "\n",
    "    insert_query = insert_query[:-2] + '), '"
   ]
  },
  {
   "cell_type": "code",
   "execution_count": null,
   "id": "36",
   "metadata": {},
   "outputs": [],
   "source": [
    "df.to_csv('fifa_db.csv')  "
   ]
  },
  {
   "cell_type": "code",
   "execution_count": null,
   "id": "37",
   "metadata": {},
   "outputs": [],
   "source": [
    "# Histogram for Age\n",
    "import matplotlib.pyplot as plt\n",
    "import seaborn as sns\n",
    "plt.figure(figsize=(10, 6))\n",
    "sns.histplot(df['Age'], bins=20, kde=True)\n",
    "plt.title('Distribution of Age')\n",
    "plt.xlabel('Age')\n",
    "plt.ylabel('Frequency')\n",
    "plt.show()"
   ]
  },
  {
   "cell_type": "code",
   "execution_count": null,
   "id": "38",
   "metadata": {},
   "outputs": [],
   "source": []
  }
 ],
 "metadata": {
  "kernelspec": {
   "display_name": "Python [conda env:base] *",
   "language": "python",
   "name": "conda-base-py"
  },
  "language_info": {
   "codemirror_mode": {
    "name": "ipython",
    "version": 3
   },
   "file_extension": ".py",
   "mimetype": "text/x-python",
   "name": "python",
   "nbconvert_exporter": "python",
   "pygments_lexer": "ipython3",
   "version": "3.12.7"
  }
 },
 "nbformat": 4,
 "nbformat_minor": 5
}
