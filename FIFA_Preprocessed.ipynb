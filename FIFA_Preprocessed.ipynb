{
 "cells": [
  {
   "cell_type": "code",
   "execution_count": null,
   "id": "0",
   "metadata": {},
   "outputs": [],
   "source": [
    "import pandas as pd\n",
    "import numpy as np\n",
    "from datetime import datetime\n",
    "import matplotlib.pyplot as plt\n",
    "import seaborn as sns\n",
    "raw_data = pd.read_csv('FIFA_raw_data.csv')\n",
    "df = raw_data.copy()\n",
    "df = df.drop(['ID', 'LongName', 'photoUrl', 'playerUrl'], axis = 1)\n",
    "df = df.rename(columns={'↓OVA':'OVA'})\n",
    "df[\"Club\"]=df[\"Club\"].str.strip(\"\\n\\n\\n\\n\")\n",
    "df['Height'] = df['Height'].str.replace('cm', '')\n",
    "def ft_to_cm(x):\n",
    "    if \"'\" in x:\n",
    "        parts = x.replace('\"', '').split(\"'\")\n",
    "        feet = float(parts[0])\n",
    "        inches = float(parts[1]) if parts[1] else 0\n",
    "        cm = round((feet * 30.48) + (inches * 2.54), 0)\n",
    "        return int(cm)\n",
    "    else:\n",
    "        return int(x)\n",
    "\n",
    "df[\"Height\"]=df[\"Height\"].apply(ft_to_cm)\n",
    "df[\"Height\"].unique()\n",
    "df['Weight'] = df['Weight'].str.replace('kg', '')\n",
    "def lbs_to_kg(x):\n",
    "    if \"lbs\" in x:\n",
    "        lbs = x.replace(\"lbs\", \"\")\n",
    "        kg = round(int(lbs) / 2.2, 0)\n",
    "        return int(kg)\n",
    "    else:\n",
    "        return int(x)\n",
    "\n",
    "df['Weight'] = df['Weight'].apply(lbs_to_kg)\n",
    "df.rename(columns={'Height':'Height(cm)','Weight':'Weight(kg)'},inplace =True)\n",
    "def money(x):\n",
    "    if \"€\" in x:\n",
    "        x = x.replace(\"€\", \"\")\n",
    "    if \"M\" in x:\n",
    "        x=x.replace(\"M\", \"\")\n",
    "        return int(float(x) * 1000000)\n",
    "    elif \"K\" in x:\n",
    "        x = x.replace(\"K\", \"\")\n",
    "        return int(float(x) * 1000)\n",
    "\n",
    "    return int(x)\n",
    "\n",
    "df['Value'] = df['Value'].apply(money)\n",
    "df['Wage'] = df['Wage'].apply(money)\n",
    "df['Release Clause'] = df['Release Clause'].apply(money)\n",
    "\n",
    "df.rename(columns = {'Value':'Value (€)', \"Wage\":\"Wage (€)\"})\n",
    "\n",
    "df['W/F'] = df['W/F'].str.replace(\"★\", \"\")\n",
    "df['SM'] = df['SM'].str.replace(\"★\", \"\")\n",
    "df['IR'] = df['IR'].str.replace(\"★\", \"\")\n",
    "\n",
    "df.rename(columns = {'W/F':'Weak Foot /5', \"SM\":\"Skill Moves /5\", \"IR\": \"International Reputation /5\"}, inplace = True)\n",
    "\n",
    "def type(x):\n",
    "    if \"Free\" in x:\n",
    "        return \"Free\"\n",
    "    if \"Loan\" in x:\n",
    "        return \"Loan\"\n",
    "    if \"~\" in x:\n",
    "        return \"Contract\"\n",
    "    else:\n",
    "        return pd.NA\n",
    "\n",
    "def start_time_contract(x):\n",
    "    if \"~\" in x:\n",
    "        return  int(x[:4])\n",
    "    if \"Loan\" in x:\n",
    "        x=x.strip(\" On Loan\")\n",
    "        x= datetime.strptime(x, \"%b %d, %Y\")\n",
    "        return x.date()\n",
    "    else:\n",
    "        return pd.NA\n",
    "\n",
    "def end_time_contract(type,contract,loan):\n",
    "    if type == \"Contract\":\n",
    "        return int(contract[-4:])\n",
    "    if type == \"Loan\":\n",
    "        loan = datetime.strptime(loan, \"%b %d, %Y\")\n",
    "        return loan.date()\n",
    "\n",
    "    else:\n",
    "        return pd.NA\n",
    "\n",
    "df[\"Type of contract\"] = df[\"Contract\"].apply(type)\n",
    "df[\"Start year\"] = df[\"Contract\"].apply(start_time_contract)\n",
    "df[\"End year\"] = df.apply(lambda row: end_time_contract(row[\"Type of contract\"],row[\"Contract\"],row[\"Loan Date End\"] ), axis=1)\n",
    "\n",
    "df[\"Attacking\"]=round(df[\"Attacking\"]/5,0)\n",
    "df[\"Attacking\"]=df[\"Attacking\"].astype(\"int64\")\n",
    "\n",
    "df[\"Skill\"]=df[\"Skill\"]/5\n",
    "df[\"Skill\"]=df[\"Skill\"].astype(\"int64\")\n",
    "\n",
    "\n",
    "df[\"Movement\"]=df[\"Movement\"]/5\n",
    "df[\"Movement\"]=df[\"Movement\"].astype(\"int64\")\n",
    "\n",
    "\n",
    "df[\"Power\"]=df[\"Power\"]/5\n",
    "df[\"Power\"]=df[\"Power\"].astype(\"int64\")\n",
    "\n",
    "\n",
    "df[\"Mentality\"]=df[\"Mentality\"]/6\n",
    "df[\"Mentality\"]=df[\"Mentality\"].astype(\"int64\")\n",
    "\n",
    "df[\"Defending\"]=df[\"Defending\"]/3\n",
    "df[\"Defending\"]=df[\"Defending\"].astype(\"int64\")\n",
    "\n",
    "df[\"Goalkeeping\"] = df[\"Goalkeeping\"]/5\n",
    "df[\"Goalkeeping\"] = df[\"Goalkeeping\"].astype(\"int64\")\n",
    "\n",
    "df=df.rename(columns={\"Attacking\":\"Attacking AVG\", \"Skill\":\"Skill AVG\", \"Movement\":\"Movement AVG\",\n",
    "                    \"Power\":\"Power AVG\", \"Mentality\":\"Mentality AVG\", \"Defending\":\"Defending AVG\", \"Goalkeeping\":\"Goalkeeping AVG\"} )\n",
    "\n",
    "df = df.drop(['Hits'], axis=1)\n",
    "\n",
    "df_columns = ['Name', 'Nationality', 'Age', 'OVA', 'POT', 'Club', 'Contract',\n",
    "       'Positions', 'Height(cm)', 'Weight(kg)', 'Preferred Foot', 'BOV',\n",
    "       'Best Position', 'Joined','Type of contract', 'Start year',\n",
    "       'End year', 'Loan Date End', 'Value', 'Wage',\n",
    "       'Release Clause', 'Attacking AVG', 'Crossing', 'Finishing',\n",
    "       'Heading Accuracy', 'Short Passing', 'Volleys', 'Skill AVG',\n",
    "       'Dribbling', 'Curve', 'FK Accuracy', 'Long Passing', 'Ball Control',\n",
    "       'Movement AVG', 'Acceleration', 'Sprint Speed', 'Agility', 'Reactions',\n",
    "       'Balance', 'Power AVG', 'Shot Power', 'Jumping', 'Stamina', 'Strength',\n",
    "       'Long Shots', 'Mentality AVG', 'Aggression', 'Interceptions',\n",
    "       'Positioning', 'Vision', 'Penalties', 'Composure', 'Defending AVG',\n",
    "       'Marking', 'Standing Tackle', 'Sliding Tackle', 'Goalkeeping AVG',\n",
    "       'GK Diving', 'GK Handling', 'GK Kicking', 'GK Positioning',\n",
    "       'GK Reflexes', 'Total Stats', 'Base Stats', 'Weak Foot /5',\n",
    "       'Skill Moves /5', 'A/W', 'D/W', 'International Reputation /5', 'PAC',\n",
    "       'SHO', 'PAS', 'DRI', 'DEF', 'PHY',]\n",
    "\n",
    "df=df[df_columns]\n",
    "\n",
    "df=df.drop(columns=['Loan Date End','Joined'])\n",
    "\n",
    "df[['Weak Foot /5', 'Skill Moves /5', 'International Reputation /5']] = df[['Weak Foot /5', 'Skill Moves /5', 'International Reputation /5']]\\\n",
    ".apply(pd.to_numeric)\n",
    "\n",
    "def find_field_position(x):\n",
    "    if x == 'GK':\n",
    "        return x\n",
    "    elif x in ['CB', 'RB', 'LB', 'LWB', 'RWB']:\n",
    "        return 'DEF'\n",
    "    elif x in ['CAM', 'CDM', 'CM', 'LM', 'RM']:\n",
    "        return 'MID'\n",
    "    else:\n",
    "        return 'ATT'\n",
    "\n",
    "df['Field Position'] = df['Best Position'].apply(find_field_position)\n",
    "\n",
    "col_names = ['Name', 'Nationality', 'Age', 'OVA', 'POT', 'Club', 'Contract',\n",
    "       'Positions', 'Height(cm)', 'Weight(kg)', 'Preferred Foot', 'BOV',\n",
    "       'Best Position', 'Field Position', 'Type of contract', 'Start year', 'End year', 'Value',\n",
    "       'Wage', 'Release Clause', 'Attacking AVG', 'Crossing', 'Finishing',\n",
    "       'Heading Accuracy', 'Short Passing', 'Volleys', 'Skill AVG',\n",
    "       'Dribbling', 'Curve', 'FK Accuracy', 'Long Passing', 'Ball Control',\n",
    "       'Movement AVG', 'Acceleration', 'Sprint Speed', 'Agility', 'Reactions',\n",
    "       'Balance', 'Power AVG', 'Shot Power', 'Jumping', 'Stamina', 'Strength',\n",
    "       'Long Shots', 'Mentality AVG', 'Aggression', 'Interceptions',\n",
    "       'Positioning', 'Vision', 'Penalties', 'Composure', 'Defending AVG',\n",
    "       'Marking', 'Standing Tackle', 'Sliding Tackle', 'Goalkeeping AVG',\n",
    "       'GK Diving', 'GK Handling', 'GK Kicking', 'GK Positioning',\n",
    "       'GK Reflexes', 'Total Stats', 'Base Stats', 'Weak Foot /5',\n",
    "       'Skill Moves /5', 'A/W', 'D/W', 'International Reputation /5', 'PAC',\n",
    "       'SHO', 'PAS', 'DRI', 'DEF', 'PHY']\n",
    "\n",
    "df = df[col_names]\n",
    "\n",
    "df_preprocessed = df.copy()"
   ]
  },
  {
   "cell_type": "markdown",
   "id": "1",
   "metadata": {},
   "source": [
    "# Adding the area of play column\n",
    "\n",
    "What I want is to add an area of play column that shows if a player is a defender, midfielder, attacker etc.\n",
    "\n",
    "Make a loop, use apply? df['Field Position'] = etc.\n",
    "\n",
    "HAS NOW BEEN ADDED TO THE MASTER, NO NEED TO RERUN"
   ]
  },
  {
   "cell_type": "code",
   "execution_count": null,
   "id": "2",
   "metadata": {},
   "outputs": [],
   "source": [
    "df['Best Position'].unique()"
   ]
  },
  {
   "cell_type": "code",
   "execution_count": null,
   "id": "3",
   "metadata": {},
   "outputs": [],
   "source": [
    "def find_field_position(x):\n",
    "    if x == 'GK':\n",
    "        return x\n",
    "    elif x in ['CB', 'RB', 'LB', 'LWB', 'RWB']:\n",
    "        return 'DEF'\n",
    "    elif x in ['CAM', 'CDM', 'CM', 'LM', 'RM']:\n",
    "        return 'MID'\n",
    "    else:\n",
    "        return 'ATT'\n",
    "\n",
    "# I hope I got it right..."
   ]
  },
  {
   "cell_type": "code",
   "execution_count": null,
   "id": "4",
   "metadata": {},
   "outputs": [],
   "source": [
    "df['Field Position'] = df['Best Position'].apply(find_field_position)"
   ]
  },
  {
   "cell_type": "code",
   "execution_count": null,
   "id": "5",
   "metadata": {},
   "outputs": [],
   "source": [
    "df['Field Position']"
   ]
  },
  {
   "cell_type": "code",
   "execution_count": null,
   "id": "6",
   "metadata": {},
   "outputs": [],
   "source": [
    "df.head()"
   ]
  },
  {
   "cell_type": "code",
   "execution_count": null,
   "id": "7",
   "metadata": {},
   "outputs": [],
   "source": [
    "df.columns"
   ]
  },
  {
   "cell_type": "code",
   "execution_count": null,
   "id": "8",
   "metadata": {},
   "outputs": [],
   "source": [
    "col_names = ['Name', 'Nationality', 'Age', 'OVA', 'POT', 'Club', 'Contract',\n",
    "       'Positions', 'Height(cm)', 'Weight(kg)', 'Preferred Foot', 'BOV',\n",
    "       'Best Position', 'Field Position', 'Type of contract', 'Start year', 'End year', 'Value',\n",
    "       'Wage', 'Release Clause', 'Attacking AVG', 'Crossing', 'Finishing',\n",
    "       'Heading Accuracy', 'Short Passing', 'Volleys', 'Skill AVG',\n",
    "       'Dribbling', 'Curve', 'FK Accuracy', 'Long Passing', 'Ball Control',\n",
    "       'Movement AVG', 'Acceleration', 'Sprint Speed', 'Agility', 'Reactions',\n",
    "       'Balance', 'Power AVG', 'Shot Power', 'Jumping', 'Stamina', 'Strength',\n",
    "       'Long Shots', 'Mentality AVG', 'Aggression', 'Interceptions',\n",
    "       'Positioning', 'Vision', 'Penalties', 'Composure', 'Defending AVG',\n",
    "       'Marking', 'Standing Tackle', 'Sliding Tackle', 'Goalkeeping AVG',\n",
    "       'GK Diving', 'GK Handling', 'GK Kicking', 'GK Positioning',\n",
    "       'GK Reflexes', 'Total Stats', 'Base Stats', 'Weak Foot /5',\n",
    "       'Skill Moves /5', 'A/W', 'D/W', 'International Reputation /5', 'PAC',\n",
    "       'SHO', 'PAS', 'DRI', 'DEF', 'PHY']"
   ]
  },
  {
   "cell_type": "code",
   "execution_count": null,
   "id": "9",
   "metadata": {},
   "outputs": [],
   "source": [
    "df = df[col_names]"
   ]
  },
  {
   "cell_type": "code",
   "execution_count": null,
   "id": "10",
   "metadata": {},
   "outputs": [],
   "source": [
    "df[['Best Position', 'Field Position']].head(20)"
   ]
  },
  {
   "cell_type": "markdown",
   "id": "11",
   "metadata": {},
   "source": [
    "# Exploratory Analysis"
   ]
  },
  {
   "cell_type": "code",
   "execution_count": null,
   "id": "12",
   "metadata": {},
   "outputs": [],
   "source": [
    "plt.figure(figsize=(10, 6))\n",
    "sns.histplot(df['Age'], bins=20, kde=True)\n",
    "plt.title('Distribution of Age')\n",
    "plt.xlabel('Age')\n",
    "plt.ylabel('Frequency')\n",
    "plt.show()"
   ]
  },
  {
   "cell_type": "code",
   "execution_count": null,
   "id": "13",
   "metadata": {},
   "outputs": [],
   "source": [
    "# Boxplot of Wage\n",
    "plt.figure(figsize=(10, 6))\n",
    "sns.boxplot(x='Wage', data=df)\n",
    "plt.title('Box Plot of Wage')\n",
    "plt.xlabel('Wage in Euros')\n",
    "plt.show()"
   ]
  },
  {
   "cell_type": "code",
   "execution_count": null,
   "id": "14",
   "metadata": {},
   "outputs": [],
   "source": [
    "#Scatter Plot of Overall vs Wage\n",
    "\n",
    "plt.figure(figsize=(10, 6))\n",
    "sns.scatterplot(x='OVA', y='Wage', data=df)\n",
    "plt.title('OVA vs Wage')\n",
    "plt.xlabel('Overall Rating (OVA)')\n",
    "plt.ylabel('Wage')\n",
    "plt.show()"
   ]
  },
  {
   "cell_type": "code",
   "execution_count": null,
   "id": "15",
   "metadata": {},
   "outputs": [],
   "source": [
    "club_counts = df['Club'].value_counts().head(10)\n",
    "plt.figure(figsize=(10, 6))\n",
    "sns.barplot(x=club_counts.index, y=club_counts.values)\n",
    "plt.xticks(rotation=45)\n",
    "plt.title('Top 10 Clubs by Number of Players')\n",
    "plt.xlabel('Club')\n",
    "plt.ylabel('Number of Players')\n",
    "plt.show()"
   ]
  },
  {
   "cell_type": "code",
   "execution_count": null,
   "id": "16",
   "metadata": {},
   "outputs": [],
   "source": [
    "sns.lineplot(x=df['Age'],y=df['POT'],color='green')\n",
    "plt.title('Player Potential vs Age')"
   ]
  },
  {
   "cell_type": "code",
   "execution_count": null,
   "id": "17",
   "metadata": {},
   "outputs": [],
   "source": [
    "# MY one all of my own of wage vs field position\n",
    "\n",
    "plt.figure(figsize=(10, 6))\n",
    "sns.barplot(x='Field Position', y='Wage', data=df)\n",
    "plt.title('Field Position vs Average Wage')\n",
    "plt.xlabel('Field Position')\n",
    "plt.ylabel('Average Wage')\n",
    "plt.show()"
   ]
  },
  {
   "cell_type": "code",
   "execution_count": null,
   "id": "18",
   "metadata": {},
   "outputs": [],
   "source": [
    "position_in_order = [\"GK\", \"LWB\", \"LB\", \"CB\", \"RB\", \"RWB\", \"CDM\", \"LM\", \"CM\", \"RM\", \"CAM\", \"LW\", \"CF\", \"RW\", \"ST\"]"
   ]
  },
  {
   "cell_type": "code",
   "execution_count": null,
   "id": "19",
   "metadata": {},
   "outputs": [],
   "source": [
    "plt.xticks(rotation=45)\n",
    "sns.boxplot(data=df,x=\"Best Position\",y=\"OVA\",order=position_in_order)\n",
    "plt.show()"
   ]
  },
  {
   "cell_type": "code",
   "execution_count": null,
   "id": "20",
   "metadata": {},
   "outputs": [],
   "source": [
    "field_positions_in_order = ['GK', 'DEF', 'MID', 'ATT']\n",
    "plt.xticks(rotation=45)\n",
    "sns.boxplot(data=df,x=\"Field Position\",y=\"Wage\",order=field_positions_in_order)\n",
    "plt.show()\n",
    "\n",
    "#Ends up being a terribly useless graph as... well, most players get paid incredibly low compared to the outliers!"
   ]
  },
  {
   "cell_type": "markdown",
   "id": "21",
   "metadata": {},
   "source": [
    "# Outlier Detection"
   ]
  },
  {
   "cell_type": "code",
   "execution_count": null,
   "id": "22",
   "metadata": {},
   "outputs": [],
   "source": [
    "# Boxplot before outlier\n",
    "\n",
    "sns.set(style=\"whitegrid\")\n",
    "\n",
    "numerical_columns = df.select_dtypes(include=['float64', 'int64']).columns #Selects only columns with numerical values\n",
    "\n",
    "num_columns = 5 \n",
    "num_rows = (len(numerical_columns) + num_columns - 1) // num_columns # Calculates number of rows (num_columns - 1 is there to account for the remainder\n",
    "\n",
    "plt.figure(figsize=(num_columns * 3, num_rows * 3)) # I guess this is so there's room for each figure to take up 3*3 space\n",
    "\n",
    "for i, column in enumerate(numerical_columns, 1): #Creates a value (column), and an index number for each value in the loop.\n",
    "    plt.subplot(num_rows, num_columns, i) # with the given number of rows and columns, and the index i, it knows now where to put the chart\n",
    "    sns.boxplot(x=df[column]) #Creates a boxplot of the values in the current column for each loop.\n",
    "    plt.title(column) #Gives it a title of column\n",
    "    plt.xlabel('') # No space, so gives it no value. \n",
    "\n",
    "plt.tight_layout()\n",
    "plt.show()"
   ]
  },
  {
   "cell_type": "markdown",
   "id": "23",
   "metadata": {},
   "source": [
    "# Explaining enumerate\n",
    "\n",
    "Normally, when looping through an iterable, only the values are accessed. Enumerate creates pairs of count and element, instead of just the element (like an ID# for each one). i becomes the index number, and the var name (column) becomes the value. So it does this for the numerical_columns list, and gives the first index a value of one, as matplotlib uses index-1, not 0.\n",
    "\n",
    "'i, column' are the two values being enumerated. First the index, then the value."
   ]
  },
  {
   "cell_type": "markdown",
   "id": "24",
   "metadata": {},
   "source": [
    "# Handling outliers"
   ]
  },
  {
   "cell_type": "code",
   "execution_count": null,
   "id": "25",
   "metadata": {},
   "outputs": [],
   "source": [
    "df_outliers = df.copy()"
   ]
  },
  {
   "cell_type": "code",
   "execution_count": null,
   "id": "26",
   "metadata": {},
   "outputs": [],
   "source": [
    "def handle_outliers_iqr(df_outliers, multiplier=1.5):\n",
    "    numerical_columns = df_outliers.select_dtypes(include=['float64', 'int64']).columns\n",
    "\n",
    "    for column in numerical_columns:\n",
    "        Q1 = df_outliers[column].quantile(0.25)\n",
    "        Q3 = df_outliers[column].quantile(0.75)\n",
    "        IQR = Q3 - Q1\n",
    "\n",
    "        lower_bound = Q1 - multiplier * IQR\n",
    "        upper_bound = Q3 + multiplier * IQR\n",
    "\n",
    "        outliers = df_outliers[(df_outliers[column] < lower_bound) | (df_outliers[column] > upper_bound)]\n",
    "        #print(f\"Outliers detected in '{column}': {outliers.index.tolist()}\")\n",
    "\n",
    "        df_outliers[column] = np.where(df_outliers[column] < lower_bound, lower_bound, df_outliers[column])\n",
    "        df_outliers[column] = np.where(df_outliers[column] > upper_bound, upper_bound, df_outliers[column])\n",
    "\n",
    "    return df_outliers\n",
    "\n",
    "df_outliers = handle_outliers_iqr(df_outliers, multiplier=1.5)\n",
    "\n",
    "for column in df_outliers.select_dtypes(include=['float64', 'int64']).columns:\n",
    "    Q1 = df_outliers[column].quantile(0.25)\n",
    "    Q3 = df_outliers[column].quantile(0.75)\n",
    "    IQR = Q3 - Q1\n",
    "\n",
    "    lower_bound = Q1 - 1.5 * IQR\n",
    "    upper_bound = Q3 + 1.5 * IQR\n",
    "\n",
    "    remaining_outliers = df_outliers[(df_outliers[column] < lower_bound) | (df_outliers[column] > upper_bound)]\n",
    "    if not remaining_outliers.empty:\n",
    "        print(f\"Remaining outliers in '{column}': {remaining_outliers.index.tolist()}\")\n",
    "    else:\n",
    "        print(f\"No remaining outliers in '{column}'.\")"
   ]
  },
  {
   "cell_type": "code",
   "execution_count": null,
   "id": "27",
   "metadata": {},
   "outputs": [],
   "source": [
    "sns.set(style=\"whitegrid\")\n",
    "\n",
    "numerical_columns = df_outliers.select_dtypes(include=['float64', 'int64']).columns #Selects only columns with numerical values\n",
    "\n",
    "num_columns = 5 \n",
    "num_rows = (len(numerical_columns) + num_columns - 1) // num_columns # Calculates number of rows (num_columns - 1 is there to account for the remainder\n",
    "\n",
    "plt.figure(figsize=(num_columns * 3, num_rows * 3)) # I guess this is so there's room for each figure to take up 3*3 space\n",
    "\n",
    "for i, column in enumerate(numerical_columns, 1): #Creates a value (column), and an index number for each value in the loop.\n",
    "    plt.subplot(num_rows, num_columns, i) # with the given number of rows and columns, and the index i, it knows now where to put the chart\n",
    "    sns.boxplot(x=df_outliers[column]) #Creates a boxplot of the values in the current column for each loop.\n",
    "    plt.title(column) #Gives it a title of column\n",
    "    plt.xlabel('') # No space, so gives it no value. \n",
    "\n",
    "plt.tight_layout()\n",
    "plt.show()"
   ]
  },
  {
   "cell_type": "code",
   "execution_count": null,
   "id": "28",
   "metadata": {},
   "outputs": [],
   "source": []
  }
 ],
 "metadata": {
  "kernelspec": {
   "display_name": "Python [conda env:base] *",
   "language": "python",
   "name": "conda-base-py"
  },
  "language_info": {
   "codemirror_mode": {
    "name": "ipython",
    "version": 3
   },
   "file_extension": ".py",
   "mimetype": "text/x-python",
   "name": "python",
   "nbconvert_exporter": "python",
   "pygments_lexer": "ipython3",
   "version": "3.12.7"
  }
 },
 "nbformat": 4,
 "nbformat_minor": 5
}
